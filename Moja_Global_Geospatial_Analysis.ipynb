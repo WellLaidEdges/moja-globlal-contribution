{
 "cells": [
  {
   "cell_type": "code",
   "execution_count": 1,
   "id": "90c3b09f",
   "metadata": {},
   "outputs": [
    {
     "name": "stdout",
     "output_type": "stream",
     "text": [
      "Collecting package metadata (current_repodata.json): ...working... done\n",
      "Solving environment: ...working... done\n",
      "\n",
      "# All requested packages already installed.\n",
      "\n",
      "\n",
      "Note: you may need to restart the kernel to use updated packages.\n"
     ]
    }
   ],
   "source": [
    "conda install -c conda-forge jupyter"
   ]
  },
  {
   "cell_type": "code",
   "execution_count": 4,
   "id": "c22b4574",
   "metadata": {},
   "outputs": [
    {
     "ename": "SyntaxError",
     "evalue": "invalid syntax (Temp/ipykernel_13276/3636352869.py, line 1)",
     "output_type": "error",
     "traceback": [
      "\u001b[1;36m  File \u001b[1;32m\"C:\\Users\\DMSIMA~1\\AppData\\Local\\Temp/ipykernel_13276/3636352869.py\"\u001b[1;36m, line \u001b[1;32m1\u001b[0m\n\u001b[1;33m    conda activate geo_env\u001b[0m\n\u001b[1;37m          ^\u001b[0m\n\u001b[1;31mSyntaxError\u001b[0m\u001b[1;31m:\u001b[0m invalid syntax\n"
     ]
    }
   ],
   "source": []
  },
  {
   "cell_type": "code",
   "execution_count": 2,
   "id": "59f6f684",
   "metadata": {},
   "outputs": [
    {
     "ename": "ModuleNotFoundError",
     "evalue": "No module named 'geopandas'",
     "output_type": "error",
     "traceback": [
      "\u001b[1;31m---------------------------------------------------------------------------\u001b[0m",
      "\u001b[1;31mModuleNotFoundError\u001b[0m                       Traceback (most recent call last)",
      "\u001b[1;32mC:\\Users\\DMSIMA~1\\AppData\\Local\\Temp/ipykernel_13276/657709448.py\u001b[0m in \u001b[0;36m<module>\u001b[1;34m\u001b[0m\n\u001b[0;32m      1\u001b[0m \u001b[1;31m# install geopandas\u001b[0m\u001b[1;33m\u001b[0m\u001b[1;33m\u001b[0m\u001b[0m\n\u001b[1;32m----> 2\u001b[1;33m \u001b[1;32mimport\u001b[0m \u001b[0mgeopandas\u001b[0m \u001b[1;32mas\u001b[0m \u001b[0mgpd\u001b[0m\u001b[1;33m\u001b[0m\u001b[1;33m\u001b[0m\u001b[0m\n\u001b[0m",
      "\u001b[1;31mModuleNotFoundError\u001b[0m: No module named 'geopandas'"
     ]
    }
   ],
   "source": [
    "# install geopandas\n",
    "import geopandas as gpd"
   ]
  },
  {
   "cell_type": "code",
   "execution_count": null,
   "id": "169fb830",
   "metadata": {},
   "outputs": [],
   "source": [
    "# for dependencies\n",
    "%matplotlib\n",
    "\n",
    "# dataset download\n",
    "import io, requests\n",
    "\n",
    "# dataframes\n",
    "import pandas as pd\n",
    "import numpy as np\n",
    "\n",
    "# plot and graphs\n",
    "import matplotlib.pyplot as plt\n",
    "\n",
    "# for enhancing plots\n",
    "import seaborn as sns\n",
    "\n",
    "\n"
   ]
  },
  {
   "cell_type": "code",
   "execution_count": null,
   "id": "60b724bd",
   "metadata": {},
   "outputs": [],
   "source": []
  },
  {
   "cell_type": "code",
   "execution_count": null,
   "id": "2ca8b8f7",
   "metadata": {},
   "outputs": [],
   "source": [
    "# ignore warning about missing/empty geometries\n",
    "import warnings\n",
    "warnings.filterwarnings('ignore', 'GeoSeries.notna', UserWarning)\n",
    "plt.rcParams.update({'figure.max_open_warning': 0})\n"
   ]
  },
  {
   "cell_type": "markdown",
   "id": "c5dd1ef6",
   "metadata": {},
   "source": [
    "\n",
    "# 1.0 INTRODUCTION\n"
   ]
  },
  {
   "cell_type": "markdown",
   "id": "86aaae85",
   "metadata": {},
   "source": [
    "\n",
    "## 1.0.0 The Datasets\n"
   ]
  },
  {
   "cell_type": "markdown",
   "id": "cc85ee74",
   "metadata": {},
   "source": [
    "\n",
    "The dataset is a collection of publicly available open source datasets, namely:<br>\n",
    "- [The *moja global* Land Sector Dataset](https://datasets.mojaglobal.workers.dev/0:/)"
   ]
  },
  {
   "cell_type": "markdown",
   "id": "7280afb8",
   "metadata": {},
   "source": [
    "\n",
    "## 1.0.1 Data Analysis and Notebooks\n"
   ]
  },
  {
   "cell_type": "markdown",
   "id": "601244cf",
   "metadata": {},
   "source": [
    "The data analysis software used for this analysis is [Jupyter Notebook](https://www.anaconda.com/products/distribution). This is because of its ability to hold geospatial analysis along with the process and results of said analysis."
   ]
  },
  {
   "cell_type": "markdown",
   "id": "4d41c641",
   "metadata": {},
   "source": [
    "\n",
    "## 1.0.2 Contribution\n"
   ]
  },
  {
   "cell_type": "markdown",
   "id": "1d6ac466",
   "metadata": {},
   "source": [
    "This analysis is part of an [outreachy application for 05/2022](https://outreachy.org). Following the application deadline, [this repository](https://github.com/WellLaidEdges/moja-globlal-contribution) will continue to hold contributions to *moja global* data analysis projects."
   ]
  },
  {
   "cell_type": "markdown",
   "id": "b17f3a75",
   "metadata": {},
   "source": [
    "\n",
    "## 1.0.3 The Analysis\n"
   ]
  },
  {
   "cell_type": "markdown",
   "id": "10c7e948",
   "metadata": {},
   "source": [
    "As part of *moja global*'s study of the Globe's features, activities and consequences of climate change, this analysis will describe the conditions of xyz forest."
   ]
  },
  {
   "cell_type": "code",
   "execution_count": null,
   "id": "410ac790",
   "metadata": {},
   "outputs": [],
   "source": [
    "def get_df(link):\n",
    "  \"\"\"\n",
    "  Gets a download link to a json/geojson file and \n",
    "  returns its content.\n",
    "\n",
    "  Parameters\n",
    "  ----------\n",
    "    link : str\n",
    "      A link to the json/geojson file\n",
    "\n",
    "  Returns\n",
    "  -------\n",
    "    GeoDataFrame\n",
    "      json/geojson file's content\n",
    "  \"\"\"\n",
    "  req = requests.get(link).content\n",
    "  return gpd.read_file(io.StringIO(req.decode('utf-8')))"
   ]
  },
  {
   "cell_type": "code",
   "execution_count": null,
   "id": "15fdb631",
   "metadata": {},
   "outputs": [],
   "source": [
    "zaf_boundaries     = 'https://datasets.mojaglobal.workers.dev/0:/Administrative/Boundaries/Level2%20by%20Country/ZAF/ZAF_AL2_South%20Africa.json'\n",
    "zaf_boundaries_df  = get_df(zaf_boundaries)\n",
    "zaf_boundaries_df  = zaf_boundaries_df[['name', 'geometry']]"
   ]
  },
  {
   "cell_type": "code",
   "execution_count": null,
   "id": "1f6e771b",
   "metadata": {},
   "outputs": [],
   "source": []
  },
  {
   "cell_type": "code",
   "execution_count": null,
   "id": "ceabe800",
   "metadata": {},
   "outputs": [],
   "source": []
  }
 ],
 "metadata": {
  "kernelspec": {
   "display_name": "Python 3 (ipykernel)",
   "language": "python",
   "name": "python3"
  },
  "language_info": {
   "codemirror_mode": {
    "name": "ipython",
    "version": 3
   },
   "file_extension": ".py",
   "mimetype": "text/x-python",
   "name": "python",
   "nbconvert_exporter": "python",
   "pygments_lexer": "ipython3",
   "version": "3.9.7"
  }
 },
 "nbformat": 4,
 "nbformat_minor": 5
}
